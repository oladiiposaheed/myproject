{
 "cells": [
  {
   "cell_type": "markdown",
   "id": "38735904-8ec8-4cd2-96df-5ebadd243dc8",
   "metadata": {},
   "source": [
    "# My Jupyter Notebook on IBM Watson Studio"
   ]
  },
  {
   "cell_type": "markdown",
   "id": "380b3169-d0dd-4e2f-bc62-0f61c8fcfb9a",
   "metadata": {},
   "source": [
    "__Name: Oladiipo Saheed__\n",
    "\n",
    "__Occupation: Full Stack Data Science__"
   ]
  },
  {
   "cell_type": "markdown",
   "id": "1f29f8e0-aa78-409e-aca4-d6f1c4985c54",
   "metadata": {},
   "source": [
    "<em>I am interested in data science because the best programming language for data science is python which is my favorite programming language and data science is the future.</em>"
   ]
  },
  {
   "cell_type": "markdown",
   "id": "65befcec-2eda-40b8-8235-4f55f50e0b50",
   "metadata": {},
   "source": [
    "### Find the sum of first n odd positive integers."
   ]
  },
  {
   "cell_type": "code",
   "execution_count": 15,
   "id": "23f57e5a-0f60-4faa-9ebc-f8d65a773dc5",
   "metadata": {},
   "outputs": [
    {
     "name": "stdin",
     "output_type": "stream",
     "text": [
      "Enter Positive Integer:  5\n"
     ]
    },
    {
     "name": "stdout",
     "output_type": "stream",
     "text": [
      "0 1 2 3 4 \n",
      "Total Odd Number: 2\n",
      "\n",
      "Sum: 4\n"
     ]
    }
   ],
   "source": [
    "def Sum(num):\n",
    "    count = 0\n",
    "    s = 0\n",
    "    for i in range(num):\n",
    "        if i % 2:\n",
    "            count += 1\n",
    "            s += i\n",
    "        print(i, end=' ')\n",
    "    print('\\nTotal Odd Number: {}'.format(count))\n",
    "    print('\\nSum: {}'.format(s))\n",
    "num = int(input('Enter Positive Integer: '))\n",
    "Sum(num)"
   ]
  },
  {
   "cell_type": "markdown",
   "id": "477d1a50-e16b-4eb8-bffb-4bf96e940b67",
   "metadata": {},
   "source": [
    "Programming Languages\n",
    "***\n",
    "* Python\n",
    "* Java\n",
    "* PHP\n",
    "* JavaScript\n",
    "* Ruby\n",
    "\n",
    "List of Data Science Library\n",
    "1. Pandas\n",
    "2. Numpy\n",
    "3. Seaborn\n",
    "4. Matplotlib e.t.c\n",
    "\n",
    "| Programming Language For Data Science | Rating |\n",
    "|-------------------------------------- |----------|\n",
    "| Python | 10 |\n",
    "| Java | 7 |\n",
    "| Golang | 8 |\n",
    "| JavaScript | 7.5 |\n",
    "|Ruby | 7 |\n",
    "| SQL | 8 |\n",
    "\n",
    "\n"
   ]
  },
  {
   "cell_type": "markdown",
   "id": "e52d5cda-cce7-4621-9d00-7a71820f6c72",
   "metadata": {},
   "source": []
  }
 ],
 "metadata": {
  "kernelspec": {
   "display_name": "Python",
   "language": "python",
   "name": "conda-env-python-py"
  },
  "language_info": {
   "codemirror_mode": {
    "name": "ipython",
    "version": 3
   },
   "file_extension": ".py",
   "mimetype": "text/x-python",
   "name": "python",
   "nbconvert_exporter": "python",
   "pygments_lexer": "ipython3",
   "version": "3.7.12"
  }
 },
 "nbformat": 4,
 "nbformat_minor": 5
}
